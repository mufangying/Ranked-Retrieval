{
 "cells": [
  {
   "cell_type": "markdown",
   "id": "acb7b92e",
   "metadata": {},
   "source": [
    "## Load in dataset"
   ]
  },
  {
   "cell_type": "code",
   "execution_count": 1,
   "id": "777c0d75",
   "metadata": {},
   "outputs": [],
   "source": [
    "from utils import *"
   ]
  },
  {
   "cell_type": "code",
   "execution_count": 3,
   "id": "a1d7a1f3",
   "metadata": {},
   "outputs": [
    {
     "name": "stdout",
     "output_type": "stream",
     "text": [
      "alpha: 0.1, beta: 0.1 \n",
      "\n"
     ]
    },
    {
     "name": "stderr",
     "output_type": "stream",
     "text": [
      "  0%|          | 0/1 [00:21<?, ?it/s]\n"
     ]
    },
    {
     "ename": "KeyboardInterrupt",
     "evalue": "",
     "output_type": "error",
     "traceback": [
      "\u001b[0;31m---------------------------------------------------------------------------\u001b[0m",
      "\u001b[0;31mKeyboardInterrupt\u001b[0m                         Traceback (most recent call last)",
      "\u001b[0;32m<ipython-input-3-01fcd929ffba>\u001b[0m in \u001b[0;36m<module>\u001b[0;34m\u001b[0m\n\u001b[1;32m     15\u001b[0m \u001b[0malpha\u001b[0m\u001b[0;34m,\u001b[0m \u001b[0mbeta\u001b[0m \u001b[0;34m=\u001b[0m \u001b[0;36m0.1\u001b[0m\u001b[0;34m,\u001b[0m \u001b[0;36m0.1\u001b[0m\u001b[0;34m\u001b[0m\u001b[0;34m\u001b[0m\u001b[0m\n\u001b[1;32m     16\u001b[0m \u001b[0mprint\u001b[0m\u001b[0;34m(\u001b[0m\u001b[0;34mf'alpha: {alpha}, beta: {beta} \\n'\u001b[0m\u001b[0;34m)\u001b[0m\u001b[0;34m\u001b[0m\u001b[0;34m\u001b[0m\u001b[0m\n\u001b[0;32m---> 17\u001b[0;31m \u001b[0mprint\u001b[0m\u001b[0;34m(\u001b[0m \u001b[0mrun_experiments_ym\u001b[0m\u001b[0;34m(\u001b[0m\u001b[0mnum_iter\u001b[0m\u001b[0;34m,\u001b[0m \u001b[0ml1_data\u001b[0m\u001b[0;34m,\u001b[0m \u001b[0ml2_data\u001b[0m\u001b[0;34m,\u001b[0m \u001b[0mdelta\u001b[0m\u001b[0;34m,\u001b[0m \u001b[0malpha\u001b[0m\u001b[0;34m,\u001b[0m \u001b[0mbeta\u001b[0m\u001b[0;34m,\u001b[0m \u001b[0mlam_seq\u001b[0m\u001b[0;34m,\u001b[0m \u001b[0mgamma_seq\u001b[0m\u001b[0;34m,\u001b[0m \u001b[0mrelevance_level\u001b[0m \u001b[0;34m=\u001b[0m \u001b[0;36m1\u001b[0m\u001b[0;34m)\u001b[0m \u001b[0;34m)\u001b[0m\u001b[0;34m\u001b[0m\u001b[0;34m\u001b[0m\u001b[0m\n\u001b[0m\u001b[1;32m     18\u001b[0m \u001b[0mprint\u001b[0m\u001b[0;34m(\u001b[0m\u001b[0;34m'\\n'\u001b[0m\u001b[0;34m)\u001b[0m\u001b[0;34m\u001b[0m\u001b[0;34m\u001b[0m\u001b[0m\n\u001b[1;32m     19\u001b[0m \u001b[0;34m\u001b[0m\u001b[0m\n",
      "\u001b[0;32m~/Desktop/two-stage CRC/yahoo/utils.py\u001b[0m in \u001b[0;36mrun_experiments_ym\u001b[0;34m(num_iter, l1_data, l2_data, delta, alpha, beta, lam_seq, gamma_seq, relevance_level)\u001b[0m\n\u001b[1;32m    520\u001b[0m \u001b[0;34m\u001b[0m\u001b[0m\n\u001b[1;32m    521\u001b[0m         \u001b[0;31m# paremeter selection through different methods\u001b[0m\u001b[0;34m\u001b[0m\u001b[0;34m\u001b[0m\u001b[0;34m\u001b[0m\u001b[0m\n\u001b[0;32m--> 522\u001b[0;31m         \u001b[0mlambda_val\u001b[0m\u001b[0;34m,\u001b[0m \u001b[0mgamma\u001b[0m \u001b[0;34m=\u001b[0m \u001b[0mfull_cal_parameter_selection\u001b[0m\u001b[0;34m(\u001b[0m\u001b[0mval_zipped_data\u001b[0m\u001b[0;34m,\u001b[0m \u001b[0malpha\u001b[0m\u001b[0;34m,\u001b[0m \u001b[0mbeta\u001b[0m\u001b[0;34m)\u001b[0m\u001b[0;34m\u001b[0m\u001b[0;34m\u001b[0m\u001b[0m\n\u001b[0m\u001b[1;32m    523\u001b[0m         \u001b[0mresults\u001b[0m\u001b[0;34m[\u001b[0m\u001b[0;36m0\u001b[0m\u001b[0;34m,\u001b[0m\u001b[0mi\u001b[0m\u001b[0;34m,\u001b[0m\u001b[0;34m:\u001b[0m\u001b[0;34m]\u001b[0m \u001b[0;34m=\u001b[0m \u001b[0mevaluate_test_ym\u001b[0m\u001b[0;34m(\u001b[0m\u001b[0mtest_zipped_data\u001b[0m\u001b[0;34m,\u001b[0m \u001b[0mlambda_val\u001b[0m\u001b[0;34m,\u001b[0m \u001b[0mgamma\u001b[0m\u001b[0;34m)\u001b[0m\u001b[0;34m\u001b[0m\u001b[0;34m\u001b[0m\u001b[0m\n\u001b[1;32m    524\u001b[0m \u001b[0;34m\u001b[0m\u001b[0m\n",
      "\u001b[0;32m~/Desktop/two-stage CRC/yahoo/utils.py\u001b[0m in \u001b[0;36mfull_cal_parameter_selection\u001b[0;34m(val_data, alpha, beta)\u001b[0m\n\u001b[1;32m    241\u001b[0m \u001b[0;34m\u001b[0m\u001b[0m\n\u001b[1;32m    242\u001b[0m         \u001b[0;31m# find gamma in stage 2\u001b[0m\u001b[0;34m\u001b[0m\u001b[0;34m\u001b[0m\u001b[0;34m\u001b[0m\u001b[0m\n\u001b[0;32m--> 243\u001b[0;31m         \u001b[0mgamma\u001b[0m \u001b[0;34m=\u001b[0m \u001b[0mcalc_rank_gamma\u001b[0m\u001b[0;34m(\u001b[0m\u001b[0mval_data\u001b[0m\u001b[0;34m,\u001b[0m \u001b[0mbeta\u001b[0m\u001b[0;34m,\u001b[0m \u001b[0mlambda_val\u001b[0m\u001b[0;34m)\u001b[0m\u001b[0;34m\u001b[0m\u001b[0;34m\u001b[0m\u001b[0m\n\u001b[0m\u001b[1;32m    244\u001b[0m \u001b[0;34m\u001b[0m\u001b[0m\n\u001b[1;32m    245\u001b[0m         \u001b[0mtotal_l2_size\u001b[0m \u001b[0;34m=\u001b[0m \u001b[0;36m0\u001b[0m\u001b[0;34m\u001b[0m\u001b[0;34m\u001b[0m\u001b[0m\n",
      "\u001b[0;32m~/Desktop/two-stage CRC/yahoo/utils.py\u001b[0m in \u001b[0;36mcalc_rank_gamma\u001b[0;34m(val_data, beta, lambda_val, relevance_level)\u001b[0m\n\u001b[1;32m    208\u001b[0m         \u001b[0mtotal_loss\u001b[0m \u001b[0;34m=\u001b[0m \u001b[0;36m0\u001b[0m\u001b[0;34m\u001b[0m\u001b[0;34m\u001b[0m\u001b[0m\n\u001b[1;32m    209\u001b[0m         \u001b[0;32mfor\u001b[0m \u001b[0mquery_id\u001b[0m\u001b[0;34m,\u001b[0m \u001b[0;34m(\u001b[0m\u001b[0ml1_docs_for_query\u001b[0m\u001b[0;34m,\u001b[0m \u001b[0ml2_docs_for_query\u001b[0m\u001b[0;34m)\u001b[0m  \u001b[0;32min\u001b[0m \u001b[0mval_data\u001b[0m\u001b[0;34m.\u001b[0m\u001b[0mitems\u001b[0m\u001b[0;34m(\u001b[0m\u001b[0;34m)\u001b[0m\u001b[0;34m:\u001b[0m\u001b[0;34m\u001b[0m\u001b[0;34m\u001b[0m\u001b[0m\n\u001b[0;32m--> 210\u001b[0;31m             total_loss += calc_l2_risk_for_query(l1_docs_for_query, l2_docs_for_query, \n\u001b[0m\u001b[1;32m    211\u001b[0m                                                     lambda_val,  mid_gamma, relevance_level)\n\u001b[1;32m    212\u001b[0m \u001b[0;34m\u001b[0m\u001b[0m\n",
      "\u001b[0;32m~/Desktop/two-stage CRC/yahoo/utils.py\u001b[0m in \u001b[0;36mcalc_l2_risk_for_query\u001b[0;34m(l1_docs_for_query, l2_docs_for_query, lambda_val, gamma, relevance_level)\u001b[0m\n\u001b[1;32m    137\u001b[0m \u001b[0;32mdef\u001b[0m \u001b[0mcalc_l2_risk_for_query\u001b[0m\u001b[0;34m(\u001b[0m\u001b[0ml1_docs_for_query\u001b[0m\u001b[0;34m,\u001b[0m \u001b[0ml2_docs_for_query\u001b[0m\u001b[0;34m,\u001b[0m \u001b[0mlambda_val\u001b[0m\u001b[0;34m,\u001b[0m \u001b[0mgamma\u001b[0m\u001b[0;34m,\u001b[0m \u001b[0mrelevance_level\u001b[0m \u001b[0;34m=\u001b[0m \u001b[0;36m1\u001b[0m\u001b[0;34m)\u001b[0m\u001b[0;34m:\u001b[0m\u001b[0;34m\u001b[0m\u001b[0;34m\u001b[0m\u001b[0m\n\u001b[1;32m    138\u001b[0m \u001b[0;34m\u001b[0m\u001b[0m\n\u001b[0;32m--> 139\u001b[0;31m     \u001b[0ml1_retrieved_docs\u001b[0m \u001b[0;34m=\u001b[0m \u001b[0mset\u001b[0m\u001b[0;34m(\u001b[0m\u001b[0;34m[\u001b[0m\u001b[0mdoc\u001b[0m\u001b[0;34m[\u001b[0m\u001b[0;36m0\u001b[0m\u001b[0;34m]\u001b[0m \u001b[0;32mfor\u001b[0m \u001b[0mdoc\u001b[0m \u001b[0;32min\u001b[0m \u001b[0ml1_docs_for_query\u001b[0m \u001b[0;32mif\u001b[0m \u001b[0mdoc\u001b[0m\u001b[0;34m[\u001b[0m\u001b[0;36m2\u001b[0m\u001b[0;34m]\u001b[0m \u001b[0;34m>=\u001b[0m \u001b[0;36m1\u001b[0m \u001b[0;34m-\u001b[0m \u001b[0mlambda_val\u001b[0m\u001b[0;34m]\u001b[0m\u001b[0;34m)\u001b[0m\u001b[0;34m\u001b[0m\u001b[0;34m\u001b[0m\u001b[0m\n\u001b[0m\u001b[1;32m    140\u001b[0m     \u001b[0ml2_retained_docs\u001b[0m \u001b[0;34m=\u001b[0m \u001b[0mset\u001b[0m\u001b[0;34m(\u001b[0m\u001b[0;34m[\u001b[0m\u001b[0mdoc\u001b[0m\u001b[0;34m[\u001b[0m\u001b[0;36m0\u001b[0m\u001b[0;34m]\u001b[0m \u001b[0;32mfor\u001b[0m \u001b[0mdoc\u001b[0m \u001b[0;32min\u001b[0m \u001b[0ml2_docs_for_query\u001b[0m \u001b[0;32mif\u001b[0m \u001b[0mdoc\u001b[0m\u001b[0;34m[\u001b[0m\u001b[0;36m2\u001b[0m\u001b[0;34m]\u001b[0m \u001b[0;34m>=\u001b[0m \u001b[0;36m1\u001b[0m \u001b[0;34m-\u001b[0m \u001b[0mgamma\u001b[0m \u001b[0;32mand\u001b[0m \u001b[0mdoc\u001b[0m\u001b[0;34m[\u001b[0m\u001b[0;36m0\u001b[0m\u001b[0;34m]\u001b[0m \u001b[0;32min\u001b[0m \u001b[0ml1_retrieved_docs\u001b[0m\u001b[0;34m]\u001b[0m\u001b[0;34m)\u001b[0m\u001b[0;34m\u001b[0m\u001b[0;34m\u001b[0m\u001b[0m\n\u001b[1;32m    141\u001b[0m \u001b[0;34m\u001b[0m\u001b[0m\n",
      "\u001b[0;32m~/Desktop/two-stage CRC/yahoo/utils.py\u001b[0m in \u001b[0;36m<listcomp>\u001b[0;34m(.0)\u001b[0m\n\u001b[1;32m    137\u001b[0m \u001b[0;32mdef\u001b[0m \u001b[0mcalc_l2_risk_for_query\u001b[0m\u001b[0;34m(\u001b[0m\u001b[0ml1_docs_for_query\u001b[0m\u001b[0;34m,\u001b[0m \u001b[0ml2_docs_for_query\u001b[0m\u001b[0;34m,\u001b[0m \u001b[0mlambda_val\u001b[0m\u001b[0;34m,\u001b[0m \u001b[0mgamma\u001b[0m\u001b[0;34m,\u001b[0m \u001b[0mrelevance_level\u001b[0m \u001b[0;34m=\u001b[0m \u001b[0;36m1\u001b[0m\u001b[0;34m)\u001b[0m\u001b[0;34m:\u001b[0m\u001b[0;34m\u001b[0m\u001b[0;34m\u001b[0m\u001b[0m\n\u001b[1;32m    138\u001b[0m \u001b[0;34m\u001b[0m\u001b[0m\n\u001b[0;32m--> 139\u001b[0;31m     \u001b[0ml1_retrieved_docs\u001b[0m \u001b[0;34m=\u001b[0m \u001b[0mset\u001b[0m\u001b[0;34m(\u001b[0m\u001b[0;34m[\u001b[0m\u001b[0mdoc\u001b[0m\u001b[0;34m[\u001b[0m\u001b[0;36m0\u001b[0m\u001b[0;34m]\u001b[0m \u001b[0;32mfor\u001b[0m \u001b[0mdoc\u001b[0m \u001b[0;32min\u001b[0m \u001b[0ml1_docs_for_query\u001b[0m \u001b[0;32mif\u001b[0m \u001b[0mdoc\u001b[0m\u001b[0;34m[\u001b[0m\u001b[0;36m2\u001b[0m\u001b[0;34m]\u001b[0m \u001b[0;34m>=\u001b[0m \u001b[0;36m1\u001b[0m \u001b[0;34m-\u001b[0m \u001b[0mlambda_val\u001b[0m\u001b[0;34m]\u001b[0m\u001b[0;34m)\u001b[0m\u001b[0;34m\u001b[0m\u001b[0;34m\u001b[0m\u001b[0m\n\u001b[0m\u001b[1;32m    140\u001b[0m     \u001b[0ml2_retained_docs\u001b[0m \u001b[0;34m=\u001b[0m \u001b[0mset\u001b[0m\u001b[0;34m(\u001b[0m\u001b[0;34m[\u001b[0m\u001b[0mdoc\u001b[0m\u001b[0;34m[\u001b[0m\u001b[0;36m0\u001b[0m\u001b[0;34m]\u001b[0m \u001b[0;32mfor\u001b[0m \u001b[0mdoc\u001b[0m \u001b[0;32min\u001b[0m \u001b[0ml2_docs_for_query\u001b[0m \u001b[0;32mif\u001b[0m \u001b[0mdoc\u001b[0m\u001b[0;34m[\u001b[0m\u001b[0;36m2\u001b[0m\u001b[0;34m]\u001b[0m \u001b[0;34m>=\u001b[0m \u001b[0;36m1\u001b[0m \u001b[0;34m-\u001b[0m \u001b[0mgamma\u001b[0m \u001b[0;32mand\u001b[0m \u001b[0mdoc\u001b[0m\u001b[0;34m[\u001b[0m\u001b[0;36m0\u001b[0m\u001b[0;34m]\u001b[0m \u001b[0;32min\u001b[0m \u001b[0ml1_retrieved_docs\u001b[0m\u001b[0;34m]\u001b[0m\u001b[0;34m)\u001b[0m\u001b[0;34m\u001b[0m\u001b[0;34m\u001b[0m\u001b[0m\n\u001b[1;32m    141\u001b[0m \u001b[0;34m\u001b[0m\u001b[0m\n",
      "\u001b[0;31mKeyboardInterrupt\u001b[0m: "
     ]
    }
   ],
   "source": [
    "# load data\n",
    "l1_file_name = \"Set1_L1.txt\"\n",
    "l2_file_name = \"Set1_L2.txt\"\n",
    "\n",
    "l1_data, all_scores = load_data(l1_file_name)\n",
    "l2_data, _ = load_data(l2_file_name)\n",
    "\n",
    "\n",
    "delta = 0.01\n",
    "lam_seq = [1 - 0.001*i for i in range(51)]\n",
    "gamma_seq = [1 - 0.001*i for i in range(51)]\n",
    "num_iter = 1\n",
    "\n",
    "\n",
    "alpha, beta = 0.1, 0.1\n",
    "print(f'alpha: {alpha}, beta: {beta} \\n')\n",
    "print( run_experiments_ym(num_iter, l1_data, l2_data, delta, alpha, beta, lam_seq, gamma_seq, relevance_level = 1) )\n",
    "print('\\n')\n",
    "\n",
    "\n",
    "alpha, beta = 0.01, 0.1\n",
    "print(f'alpha: {alpha}, beta: {beta} \\n')\n",
    "print( run_experiments_ym(num_iter, l1_data, l2_data, delta, alpha, beta, lam_seq, gamma_seq, relevance_level = 1) )\n",
    "print('\\n')\n",
    "\n",
    "\n",
    "alpha, beta = 0.1, 0.2\n",
    "print(f'alpha: {alpha}, beta: {beta} \\n')\n",
    "print( run_experiments_ym(num_iter, l1_data, l2_data, delta, alpha, beta, lam_seq, gamma_seq, relevance_level = 1) )\n",
    "print('\\n')\n",
    "\n",
    "\n",
    "alpha, beta_seq = 0.1, [0.05, 0.075, 0.1, 0.125, 0.15, 0.175, 0.2]\n",
    "output = run_experiments_varying_beta_ym(num_iter, l1_data, l2_data, delta, alpha, beta_seq, lam_seq, gamma_seq, relevance_level = 1)\n",
    "np.save('varying_beta_yahoo.npy', output)"
   ]
  },
  {
   "cell_type": "code",
   "execution_count": 3,
   "id": "872ac192",
   "metadata": {},
   "outputs": [],
   "source": [
    "val_ids, test_ids = split_query_ids(l1_data, 0.5)\n",
    "val_zipped_data = zip_data(l1_data, l2_data, val_ids)\n",
    "val_zipped_data_1, val_zipped_data_2 = split_val_data(val_zipped_data)\n",
    "\n",
    "test_zipped_data = zip_data(l1_data, l2_data, test_ids)"
   ]
  },
  {
   "cell_type": "code",
   "execution_count": null,
   "id": "6aac15e6",
   "metadata": {},
   "outputs": [],
   "source": [
    "# val_zipped_data"
   ]
  },
  {
   "cell_type": "code",
   "execution_count": null,
   "id": "1565b48a",
   "metadata": {},
   "outputs": [],
   "source": [
    "full_cal_parameter_selection(val_zipped_data, 0.1, 0.1)"
   ]
  },
  {
   "cell_type": "code",
   "execution_count": null,
   "id": "2d5a9297",
   "metadata": {},
   "outputs": [],
   "source": [
    "split_cal_parameter_selection(val_zipped_data_1, val_zipped_data_1, 0.1, 0.1)"
   ]
  },
  {
   "cell_type": "code",
   "execution_count": null,
   "id": "28c400d0",
   "metadata": {},
   "outputs": [],
   "source": [
    "ltt_parameter_selection(val_zipped_data, delta, alpha, beta, lam_seq, gamma_seq)"
   ]
  },
  {
   "cell_type": "code",
   "execution_count": null,
   "id": "606c4db2",
   "metadata": {},
   "outputs": [],
   "source": [
    "# run experiment"
   ]
  },
  {
   "cell_type": "code",
   "execution_count": 7,
   "id": "b372d908",
   "metadata": {},
   "outputs": [
    {
     "name": "stderr",
     "output_type": "stream",
     "text": [
      "  0%|          | 0/1 [02:17<?, ?it/s]"
     ]
    },
    {
     "name": "stdout",
     "output_type": "stream",
     "text": [
      "[[9.9700e-01 9.8800e-01 6.0000e-03 9.8000e-02 6.7739e+01 9.5400e-01\n",
      "  8.5600e-01 7.4900e-01]\n",
      " [9.6500e-01 9.9900e-01 9.8000e-02 9.4000e-02 7.8589e+01 9.3000e-01\n",
      "  8.8200e-01 6.5600e-01]\n",
      " [9.9700e-01 9.9000e-01 6.0000e-03 8.0000e-02 6.9762e+01 9.6200e-01\n",
      "  8.8200e-01 7.4500e-01]]\n"
     ]
    },
    {
     "name": "stderr",
     "output_type": "stream",
     "text": [
      "\n"
     ]
    }
   ],
   "source": [
    "delta = 0.1\n",
    "alpha = 0.1\n",
    "beta = 0.1\n",
    "lam_seq = [1 - 0.001*i for i in range(51)]\n",
    "gamma_seq = [1 - 0.001*i for i in range(51)]\n",
    "num_iter = 1\n",
    "\n",
    "print(run_experiments(num_iter, l1_data, l2_data, delta, alpha, beta, lam_seq, gamma_seq, relevance_level = 1))"
   ]
  },
  {
   "cell_type": "code",
   "execution_count": 9,
   "id": "0ae78ca5",
   "metadata": {},
   "outputs": [
    {
     "name": "stderr",
     "output_type": "stream",
     "text": [
      "  0%|          | 0/1 [00:50<?, ?it/s]\n",
      "  0%|          | 0/1 [01:19<?, ?it/s]\n",
      "  0%|          | 0/1 [01:18<?, ?it/s]\n",
      "  0%|          | 0/1 [01:19<?, ?it/s]"
     ]
    },
    {
     "name": "stdout",
     "output_type": "stream",
     "text": [
      "[[[9.97000e-01 9.94000e-01 6.00000e-03 4.80000e-02 7.52280e+01\n",
      "   9.77000e-01 9.30000e-01 7.35000e-01]\n",
      "  [9.81000e-01 1.00000e+00 5.00000e-02 4.60000e-02 1.21229e+02\n",
      "   9.64000e-01 9.43000e-01 4.70000e-01]\n",
      "  [9.96000e-01 9.96000e-01 9.00000e-03 3.40000e-02 7.82630e+01\n",
      "   9.82000e-01 9.51000e-01 7.20000e-01]]\n",
      "\n",
      " [[9.97000e-01 9.88000e-01 6.00000e-03 9.70000e-02 6.80600e+01\n",
      "   9.56000e-01 8.56000e-01 7.52000e-01]\n",
      "  [9.64000e-01 9.99000e-01 1.03000e-01 9.90000e-02 7.85630e+01\n",
      "   9.25000e-01 8.77000e-01 6.58000e-01]\n",
      "  [9.96000e-01 9.96000e-01 9.00000e-03 3.40000e-02 7.78630e+01\n",
      "   9.82000e-01 9.52000e-01 7.17000e-01]]\n",
      "\n",
      " [[9.98000e-01 9.82000e-01 4.00000e-03 1.47000e-01 6.27680e+01\n",
      "   9.33000e-01 7.81000e-01 7.59000e-01]\n",
      "  [9.65000e-01 9.91000e-01 9.90000e-02 1.48000e-01 6.41480e+01\n",
      "   9.03000e-01 8.04000e-01 7.47000e-01]\n",
      "  [9.96000e-01 9.96000e-01 9.00000e-03 3.50000e-02 7.79190e+01\n",
      "   9.82000e-01 9.51000e-01 7.17000e-01]]\n",
      "\n",
      " [[9.99000e-01 9.76000e-01 2.00000e-03 2.00000e-01 5.73570e+01\n",
      "   9.08000e-01 7.03000e-01 7.57000e-01]\n",
      "  [9.65000e-01 9.85000e-01 9.70000e-02 1.92000e-01 5.85480e+01\n",
      "   8.84000e-01 7.37000e-01 7.57000e-01]\n",
      "  [9.96000e-01 9.96000e-01 9.00000e-03 3.50000e-02 7.73660e+01\n",
      "   9.82000e-01 9.51000e-01 7.15000e-01]]]\n"
     ]
    },
    {
     "name": "stderr",
     "output_type": "stream",
     "text": [
      "\n"
     ]
    }
   ],
   "source": [
    "delta = 0.1\n",
    "alpha = 0.1\n",
    "beta = 0.1\n",
    "lam_seq = [1 - 0.001*i for i in range(5)]\n",
    "gamma_seq = [1 - 0.001*i for i in range(5)]\n",
    "num_iter = 1\n",
    "\n",
    "print(run_experiments_varying_beta(num_iter, l1_data, l2_data, delta, alpha, [0.05,0.1,0.15,0.2], lam_seq, gamma_seq, relevance_level = 1))"
   ]
  },
  {
   "cell_type": "code",
   "execution_count": null,
   "id": "f476f0ef",
   "metadata": {},
   "outputs": [],
   "source": []
  },
  {
   "cell_type": "code",
   "execution_count": 16,
   "id": "c9a56877",
   "metadata": {},
   "outputs": [
    {
     "data": {
      "text/plain": [
       "91.233"
      ]
     },
     "execution_count": 16,
     "metadata": {},
     "output_type": "execute_result"
    }
   ],
   "source": [
    "round( 91.2333, 3)"
   ]
  }
 ],
 "metadata": {
  "kernelspec": {
   "display_name": "Python 3",
   "language": "python",
   "name": "python3"
  },
  "language_info": {
   "codemirror_mode": {
    "name": "ipython",
    "version": 3
   },
   "file_extension": ".py",
   "mimetype": "text/x-python",
   "name": "python",
   "nbconvert_exporter": "python",
   "pygments_lexer": "ipython3",
   "version": "3.8.5"
  }
 },
 "nbformat": 4,
 "nbformat_minor": 5
}
